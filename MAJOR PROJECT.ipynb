{
 "cells": [
  {
   "cell_type": "code",
   "execution_count": null,
   "metadata": {},
   "outputs": [],
   "source": []
  },
  {
   "cell_type": "code",
   "execution_count": null,
   "metadata": {},
   "outputs": [],
   "source": []
  },
  {
   "cell_type": "code",
   "execution_count": 5,
   "metadata": {},
   "outputs": [],
   "source": [
    "import cv2\n",
    "\n",
    "def draw_boundary(img, classifier, scaleFactor, minNeighbors, color, text):\n",
    "    gray_img = cv2.cvtColor(img, cv2.COLOR_BGR2GRAY)\n",
    "    features = classifier.detectMultiScale(gray_img, scaleFactor, minNeighbors)\n",
    "    coords = []\n",
    "    for (x, y, w, h) in features:\n",
    "        cv2.rectangle(img, (x,y), (x+w, y+h), color, 2)\n",
    "        #cv2.putText(img, text, (x, y-4), cv2.FONT_HERSHEY_SIMPLEX, 0.8, color, 1, cv2.LINE_AA)\n",
    "        coords = [x, y, w, h]\n",
    "    return coords\n",
    "\n",
    "def detect(img, faceCascade, eyeCascade, noseCascade, mouthCascade):\n",
    "    color = {\"blue\":(255,0,0), \"red\":(0,0,255), \"green\":(0,255,0), \"white\":(255,255,255)}\n",
    "    coords = draw_boundary(img, faceCascade, 1.2, 10, color['blue'], \"Face\")\n",
    "    if len(coords)==4:\n",
    "        # Updating region of interest by cropping image\n",
    "        roi_img = img[coords[1]:coords[1]+coords[3], coords[0]:coords[0]+coords[2]]\n",
    "        coords = draw_boundary(roi_img, eyeCascade, 1.2, 14, color['red'], \"Eye\")\n",
    "        coords = draw_boundary(roi_img, noseCascade, 1.4, 10, color['green'], \"Nose\")\n",
    "        coords = draw_boundary(roi_img, mouthCascade, 1.7, 15, color['white'], \"Mouth\")\n",
    "    return img\n",
    "\n",
    "faceCascade = cv2.CascadeClassifier('C:\\\\Users\\\\gurde\\\\Desktop\\\\simrandesktop\\\\Untitled Folder\\\\opencv\\\\sources\\\\data\\\\haarcascades\\\\haarcascade_frontalface_default.xml')\n",
    "\n",
    "eyesCascade = cv2.CascadeClassifier('C:\\\\Users\\\\gurde\\\\Desktop\\\\simrandesktop\\\\Untitled Folder\\\\opencv\\\\sources\\\\data\\\\haarcascades\\\\haarcascade_eye.xml')\n",
    "\n",
    "noseCascade = cv2.CascadeClassifier('C:\\\\Users\\\\gurde\\\\Desktop\\\\simrandesktop\\\\Untitled Folder\\\\opencv\\\\sources\\\\data\\\\haarcascades\\\\haarcascade_smile.xml')\n",
    "mouthCascade = cv2.CascadeClassifier('C:\\\\Users\\\\gurde\\\\Desktop\\\\simrandesktop\\\\Untitled Folder\\\\opencv\\\\sources\\\\data\\\\haarcascades\\\\Nariz.xml')\n",
    "\n",
    "\n",
    "video_capture = cv2.VideoCapture(0)\n",
    "while True:\n",
    "    check, img = video_capture.read()\n",
    "    img = detect(img, faceCascade, eyesCascade, noseCascade, mouthCascade)\n",
    "    cv2.imshow(\"face detection\", img)\n",
    "    if cv2.waitKey(1) & 0xFF == ord('q'):\n",
    "        break\n",
    "\n",
    "video_capture.release()\n",
    "cv2.destroyAllWindows()"
   ]
  },
  {
   "cell_type": "code",
   "execution_count": null,
   "metadata": {},
   "outputs": [],
   "source": []
  },
  {
   "cell_type": "code",
   "execution_count": null,
   "metadata": {},
   "outputs": [],
   "source": [
    "\n"
   ]
  },
  {
   "cell_type": "code",
   "execution_count": null,
   "metadata": {},
   "outputs": [],
   "source": []
  }
 ],
 "metadata": {
  "kernelspec": {
   "display_name": "Python 3",
   "language": "python",
   "name": "python3"
  },
  "language_info": {
   "codemirror_mode": {
    "name": "ipython",
    "version": 3
   },
   "file_extension": ".py",
   "mimetype": "text/x-python",
   "name": "python",
   "nbconvert_exporter": "python",
   "pygments_lexer": "ipython3",
   "version": "3.7.3"
  }
 },
 "nbformat": 4,
 "nbformat_minor": 2
}
